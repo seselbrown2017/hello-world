{
  "nbformat": 4,
  "nbformat_minor": 0,
  "metadata": {
    "colab": {
      "name": "Test.ipynb",
      "provenance": [],
      "authorship_tag": "ABX9TyOrHLp9Cs+VNQ2rK3HB7jmu",
      "include_colab_link": true
    },
    "kernelspec": {
      "name": "python3",
      "display_name": "Python 3"
    },
    "language_info": {
      "name": "python"
    }
  },
  "cells": [
    {
      "cell_type": "markdown",
      "metadata": {
        "id": "view-in-github",
        "colab_type": "text"
      },
      "source": [
        "<a href=\"https://colab.research.google.com/github/seselbrown2017/hello-world/blob/master/Test.ipynb\" target=\"_parent\"><img src=\"https://colab.research.google.com/assets/colab-badge.svg\" alt=\"Open In Colab\"/></a>"
      ]
    },
    {
      "cell_type": "code",
      "metadata": {
        "id": "6CLErujBoNR5"
      },
      "source": [
        "import numpy as np, random, operator\n",
        "import matplotlib.pyplot as plt\n",
        "import pandas as pd\n",
        "import random, operator\n"
      ],
      "execution_count": 1,
      "outputs": []
    },
    {
      "cell_type": "code",
      "metadata": {
        "id": "LSL0QS3fsRvm"
      },
      "source": [
        "class City:\n",
        "    def __init__(self, x, y):\n",
        "        self.x = x\n",
        "        self.y = y\n",
        "    \n",
        "    def distance(self, city):\n",
        "        xDis = abs(self.x - city.x)\n",
        "        yDis = abs(self.y - city.y)\n",
        "        distance = np.sqrt((xDis ** 2) + (yDis ** 2))\n",
        "        return distance\n",
        "    \n",
        "    def __repr__(self):\n",
        "        return \"(\" + str(self.x) + \",\" + str(self.y) + \")\""
      ],
      "execution_count": 2,
      "outputs": []
    },
    {
      "cell_type": "code",
      "metadata": {
        "id": "0CLQBfA8sVUq"
      },
      "source": [
        "class Fitness:\n",
        "    def __init__(self, route):\n",
        "        self.route = route\n",
        "        self.distance = 0\n",
        "        self.fitness= 0.0\n",
        "    \n",
        "    def routeDistance(self):\n",
        "        if self.distance ==0:\n",
        "            pathDistance = 0\n",
        "            for i in range(0, len(self.route)):\n",
        "                fromCity = self.route[i]\n",
        "                toCity = None\n",
        "                if i + 1 < len(self.route):\n",
        "                    toCity = self.route[i + 1]\n",
        "                else:\n",
        "                    toCity = self.route[0]\n",
        "                pathDistance += fromCity.distance(toCity)\n",
        "            self.distance = pathDistance\n",
        "        return self.distance\n",
        "    \n",
        "    def routeFitness(self):\n",
        "        if self.fitness == 0:\n",
        "            self.fitness = 1 / float(self.routeDistance())\n",
        "        return self.fitness\n",
        "\n",
        "    def createRoute(cityList):\n",
        "      route = random.sample(cityList, len(cityList))\n",
        "      return route\n",
        "\n",
        "    def initialPopulation(popSize, cityList):\n",
        "      population = []\n",
        "\n",
        "      for i in range(0, popSize):\n",
        "          population.append(createRoute(cityList))\n",
        "      return population\n",
        "\n",
        "    def initialPopulation(popSize, cityList):\n",
        "      population = []\n",
        "\n",
        "      for i in range(0, popSize):\n",
        "          population.append(createRoute(cityList))\n",
        "      return population\n",
        "\n",
        "    def rankRoutes(population):\n",
        "      fitnessResults = {}\n",
        "      for i in range(0,len(population)):\n",
        "          fitnessResults[i] = Fitness(population[i]).routeFitness()\n",
        "      return sorted(fitnessResults.items(),key = operator.itemgetter(1),reverse = True)"
      ],
      "execution_count": 10,
      "outputs": []
    },
    {
      "cell_type": "code",
      "metadata": {
        "id": "L5FDEbg4siyT"
      },
      "source": [
        "def selection(popRanked, eliteSize):\n",
        "    selectionResults = []\n",
        "    df = pd.DataFrame(np.array(popRanked), columns=[\"Index\",\"Fitness\"])\n",
        "    df['cum_sum'] = df.Fitness.cumsum()\n",
        "    df['cum_perc'] = 100*df.cum_sum/df.Fitness.sum()\n",
        "    \n",
        "    for i in range(0, eliteSize):\n",
        "        selectionResults.append(popRanked[i][0])\n",
        "    for i in range(0, len(popRanked) - eliteSize):\n",
        "        pick = 100*random.random()\n",
        "        for i in range(0, len(popRanked)):\n",
        "            if pick <= df.iat[i,3]:\n",
        "                selectionResults.append(popRanked[i][0])\n",
        "                break\n",
        "    return selectionResults"
      ],
      "execution_count": 4,
      "outputs": []
    },
    {
      "cell_type": "code",
      "metadata": {
        "id": "qq-hX2VSsjyk"
      },
      "source": [
        "def matingPool(population, selectionResults):\n",
        "    matingpool = []\n",
        "    for i in range(0, len(selectionResults)):\n",
        "        index = selectionResults[i]\n",
        "        matingpool.append(population[index])\n",
        "    return matingpool\n",
        "\n",
        "def breed(parent1, parent2):\n",
        "    child = []\n",
        "    childP1 = []\n",
        "    childP2 = []\n",
        "    \n",
        "    geneA = int(random.random() * len(parent1))\n",
        "    geneB = int(random.random() * len(parent1))\n",
        "    \n",
        "    startGene = min(geneA, geneB)\n",
        "    endGene = max(geneA, geneB)\n",
        "\n",
        "    for i in range(startGene, endGene):\n",
        "        childP1.append(parent1[i])\n",
        "        \n",
        "    childP2 = [item for item in parent2 if item not in childP1]\n",
        "\n",
        "    child = childP1 + childP2\n",
        "    return child"
      ],
      "execution_count": 5,
      "outputs": []
    },
    {
      "cell_type": "code",
      "metadata": {
        "id": "fkXywVKusoTS"
      },
      "source": [
        "def breedPopulation(matingpool, eliteSize):\n",
        "    children = []\n",
        "    length = len(matingpool) - eliteSize\n",
        "    pool = random.sample(matingpool, len(matingpool))\n",
        "\n",
        "    for i in range(0,eliteSize):\n",
        "        children.append(matingpool[i])\n",
        "    \n",
        "    for i in range(0, length):\n",
        "        child = breed(pool[i], pool[len(matingpool)-i-1])\n",
        "        children.append(child)\n",
        "    return children\n",
        "\n",
        "def mutate(individual, mutationRate):\n",
        "    for swapped in range(len(individual)):\n",
        "        if(random.random() < mutationRate):\n",
        "            swapWith = int(random.random() * len(individual))\n",
        "            \n",
        "            city1 = individual[swapped]\n",
        "            city2 = individual[swapWith]\n",
        "            \n",
        "            individual[swapped] = city2\n",
        "            individual[swapWith] = city1\n",
        "    return individual\n",
        "\n",
        "def mutatePopulation(population, mutationRate):\n",
        "    mutatedPop = []\n",
        "    \n",
        "    for ind in range(0, len(population)):\n",
        "        mutatedInd = mutate(population[ind], mutationRate)\n",
        "        mutatedPop.append(mutatedInd)\n",
        "    return mutatedPop\n",
        "def nextGeneration(currentGen, eliteSize, mutationRate):\n",
        "    popRanked = rankRoutes(currentGen)\n",
        "    selectionResults = selection(popRanked, eliteSize)\n",
        "    matingpool = matingPool(currentGen, selectionResults)\n",
        "    children = breedPopulation(matingpool, eliteSize)\n",
        "    nextGeneration = mutatePopulation(children, mutationRate)\n",
        "    return nextGeneration\n",
        "\n",
        "def geneticAlgorithm(population, popSize, eliteSize, mutationRate, generations):\n",
        "    pop = initialPopulation(popSize, population)\n",
        "    print(\"Initial distance: \" + str(1 / rankRoutes(pop)[0][1]))\n",
        "    \n",
        "    for i in range(0, generations):\n",
        "        pop = nextGeneration(pop, eliteSize, mutationRate)\n",
        "    \n",
        "    print(\"Final distance: \" + str(1 / rankRoutes(pop)[0][1]))\n",
        "    bestRouteIndex = rankRoutes(pop)[0][0]\n",
        "    bestRoute = pop[bestRouteIndex]\n",
        "    return bestRoute\n",
        "\n",
        "cityList = []\n",
        "\n",
        "for i in range(0,25):\n",
        "    cityList.append(City(x=int(random.random() * 200), y=int(random.random() * 200)))"
      ],
      "execution_count": 12,
      "outputs": []
    },
    {
      "cell_type": "code",
      "metadata": {
        "id": "ipRHB0yPsyqP"
      },
      "source": [
        "def geneticAlgorithm(population, popSize, eliteSize, mutationRate, generations):\n",
        "    pop = initialPopulation(popSize, population)\n",
        "    print(\"Initial distance: \" + str(1 / rankRoutes(pop)[0][1]))\n",
        "    \n",
        "    for i in range(0, generations):\n",
        "        pop = nextGeneration(pop, eliteSize, mutationRate)\n",
        "    \n",
        "    print(\"Final distance: \" + str(1 / rankRoutes(pop)[0][1]))\n",
        "    bestRouteIndex = rankRoutes(pop)[0][0]\n",
        "    bestRoute = pop[bestRouteIndex]\n",
        "    \n",
        "    progress = []\n",
        "    progress.append(1 / rankRoutes(pop)[0][1])\n",
        "    \n",
        "    for i in range(0, generations):\n",
        "        pop = nextGeneration(pop, eliteSize, mutationRate)\n",
        "        progress.append(1 / rankRoutes(pop)[0][1])\n",
        "    \n",
        "    plt.plot(progress)\n",
        "    #plt.scatter(*zip(progress))\n",
        "    plt.ylabel('Distance')\n",
        "    plt.xlabel('Generation')\n",
        "    plt.show()"
      ],
      "execution_count": 14,
      "outputs": []
    },
    {
      "cell_type": "code",
      "metadata": {
        "colab": {
          "base_uri": "https://localhost:8080/",
          "height": 324
        },
        "id": "x_ipp6HRs4ip",
        "outputId": "c7611f9b-7a47-4157-bdd4-e7b7d87a7ef6"
      },
      "source": [
        "#driver program\n",
        "if __name__ == '__main__':\n",
        "    geneticAlgorithm(population=cityList, popSize=100, eliteSize=20, mutationRate=0.01, generations=500)\n",
        "    #geneticAlgorithmPlot(population=cityList, popSize=10, eliteSize=5, mutationRate=1, generations=100)"
      ],
      "execution_count": 16,
      "outputs": [
        {
          "output_type": "stream",
          "text": [
            "Initial distance: 1927.6312772646506\n",
            "Final distance: 815.7624233588283\n"
          ],
          "name": "stdout"
        },
        {
          "output_type": "display_data",
          "data": {
            "image/png": "[encoded data removed]",
            "text/plain": [
              "<Figure size 432x288 with 1 Axes>"
            ]
          },
          "metadata": {
            "tags": [],
            "needs_background": "light"
          }
        }
      ]
    }
  ]
}